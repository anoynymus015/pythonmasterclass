{
  "nbformat": 4,
  "nbformat_minor": 0,
  "metadata": {
    "colab": {
      "name": "Lesson6.ipynb",
      "provenance": [],
      "collapsed_sections": [],
      "authorship_tag": "ABX9TyOrwEuftQBllEO5PmshWaUU",
      "include_colab_link": true
    },
    "kernelspec": {
      "name": "python3",
      "display_name": "Python 3"
    },
    "language_info": {
      "name": "python"
    }
  },
  "cells": [
    {
      "cell_type": "markdown",
      "metadata": {
        "id": "view-in-github",
        "colab_type": "text"
      },
      "source": [
        "<a href=\"https://colab.research.google.com/github/kanacb/pythonmasterclass/blob/main/Lesson6.ipynb\" target=\"_parent\"><img src=\"https://colab.research.google.com/assets/colab-badge.svg\" alt=\"Open In Colab\"/></a>"
      ]
    },
    {
      "cell_type": "markdown",
      "metadata": {
        "id": "KUW_MsTnhbhA"
      },
      "source": [
        "# This lesson will be done using the Colab Introduction \n",
        "*Charting in Colaboratory*"
      ]
    },
    {
      "cell_type": "markdown",
      "metadata": {
        "id": "Hd4P2fM4hHEv"
      },
      "source": [
        "# Assignment\n",
        "\n",
        "\n",
        "1.   Plot Line Graph of Covid Data\n",
        "2.   PLot Scatter Plot by Location and size by number of visitors\n",
        "\n"
      ]
    }
  ]
}