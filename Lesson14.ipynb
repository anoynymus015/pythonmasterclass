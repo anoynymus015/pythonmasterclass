{
  "nbformat": 4,
  "nbformat_minor": 0,
  "metadata": {
    "colab": {
      "name": "Lesson14.ipynb",
      "provenance": [],
      "collapsed_sections": [],
      "mount_file_id": "15SzEgsoIFPeq4NdIxcOrdIn_aWNDbvr2",
      "authorship_tag": "ABX9TyPiwa7KMthEJuH5lYNuUDfH",
      "include_colab_link": true
    },
    "kernelspec": {
      "name": "python3",
      "display_name": "Python 3"
    },
    "language_info": {
      "name": "python"
    }
  },
  "cells": [
    {
      "cell_type": "markdown",
      "metadata": {
        "id": "view-in-github",
        "colab_type": "text"
      },
      "source": [
        "<a href=\"https://colab.research.google.com/github/kanacb/pythonmasterclass/blob/main/Lesson14.ipynb\" target=\"_parent\"><img src=\"https://colab.research.google.com/assets/colab-badge.svg\" alt=\"Open In Colab\"/></a>"
      ]
    },
    {
      "cell_type": "markdown",
      "metadata": {
        "id": "JbBiPOVSesTc"
      },
      "source": [
        "#Lesson 14\n",
        "Whats App Messages"
      ]
    },
    {
      "cell_type": "code",
      "metadata": {
        "id": "f5f2dSq3eCTz"
      },
      "source": [
        "import pandas as pd"
      ],
      "execution_count": null,
      "outputs": []
    },
    {
      "cell_type": "code",
      "metadata": {
        "id": "LNdzUnIre0yr"
      },
      "source": [
        ""
      ],
      "execution_count": null,
      "outputs": []
    }
  ]
}