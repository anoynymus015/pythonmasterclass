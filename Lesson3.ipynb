{
  "nbformat": 4,
  "nbformat_minor": 0,
  "metadata": {
    "colab": {
      "name": "Lesson3.ipynb",
      "provenance": [],
      "authorship_tag": "ABX9TyNYFT22AagJG0MrSRmbDGzt"
    },
    "kernelspec": {
      "name": "python3",
      "display_name": "Python 3"
    },
    "language_info": {
      "name": "python"
    }
  },
  "cells": [
    {
      "cell_type": "markdown",
      "metadata": {
        "id": "NrKICcSUnWsS"
      },
      "source": [
        "# Lesson 3 - Squares, Roots and Cubes\n",
        "Why is these tables important. They form the fundamental depth in understaind the pattern of numbers. There is broader purposes of this experience. The most important understanding of mathematics is to learn the language patterns of numbers. This exccersive is to give clear view of how the numbers work with each other and create patterns."
      ]
    },
    {
      "cell_type": "code",
      "metadata": {
        "colab": {
          "base_uri": "https://localhost:8080/"
        },
        "id": "23w2KnXZnV3Q",
        "outputId": "2f4e2bd4-745f-4dfa-bde2-b37844f9c01b"
      },
      "source": [
        "7**2 # the square of 7"
      ],
      "execution_count": 246,
      "outputs": [
        {
          "output_type": "execute_result",
          "data": {
            "text/plain": [
              "49"
            ]
          },
          "metadata": {},
          "execution_count": 246
        }
      ]
    },
    {
      "cell_type": "code",
      "metadata": {
        "colab": {
          "base_uri": "https://localhost:8080/"
        },
        "id": "tDcTaiDfj_br",
        "outputId": "9ff53f92-79b4-4bb5-bfdc-34933c0e4681"
      },
      "source": [
        "7**(1/2) # the root of 7"
      ],
      "execution_count": 248,
      "outputs": [
        {
          "output_type": "execute_result",
          "data": {
            "text/plain": [
              "2.6457513110645907"
            ]
          },
          "metadata": {},
          "execution_count": 248
        }
      ]
    },
    {
      "cell_type": "code",
      "metadata": {
        "colab": {
          "base_uri": "https://localhost:8080/"
        },
        "id": "Z21C98v7kGWa",
        "outputId": "35d3f695-f9d4-40f9-f6b0-2176ba6632e9"
      },
      "source": [
        "7 ** 3 # the cube of 7"
      ],
      "execution_count": 247,
      "outputs": [
        {
          "output_type": "execute_result",
          "data": {
            "text/plain": [
              "343"
            ]
          },
          "metadata": {},
          "execution_count": 247
        }
      ]
    },
    {
      "cell_type": "markdown",
      "metadata": {
        "id": "UrD0uiKvoBJJ"
      },
      "source": [
        "The times table From 1 to 12"
      ]
    },
    {
      "cell_type": "code",
      "metadata": {
        "colab": {
          "base_uri": "https://localhost:8080/"
        },
        "id": "nrI4hL0coQ-I",
        "outputId": "1f5fc294-e113-4caa-a3cd-05acca38b737"
      },
      "source": [
        "x = 12 # Creating a range of values, for the table.\n",
        "line = \"\"  # Creating an empty string to print in a line of the times table\n",
        "for k in range(1,x+1):\n",
        "  line += \"{:13}\\t\\t\".format(\" \" + str(k) + \" Times Table\")\n",
        "print(line) # header line\n",
        "line=\"\"\n",
        "for i in range(1,x+1):  # the first loop\n",
        "  line = \"\" # empty the string for the next line\n",
        "  for j in range(1,x+1):\n",
        "    line += \"{:2} x {:2} = {:3}\".format(i,j,i*j) + \", \\t\\t\"\n",
        "  print(line)"
      ],
      "execution_count": 243,
      "outputs": [
        {
          "output_type": "stream",
          "name": "stdout",
          "text": [
            " 1 Times Table\t\t 2 Times Table\t\t 3 Times Table\t\t 4 Times Table\t\t 5 Times Table\t\t 6 Times Table\t\t 7 Times Table\t\t 8 Times Table\t\t 9 Times Table\t\t 10 Times Table\t\t 11 Times Table\t\t 12 Times Table\t\t\n",
            " 1 x  1 =   1, \t\t 1 x  2 =   2, \t\t 1 x  3 =   3, \t\t 1 x  4 =   4, \t\t 1 x  5 =   5, \t\t 1 x  6 =   6, \t\t 1 x  7 =   7, \t\t 1 x  8 =   8, \t\t 1 x  9 =   9, \t\t 1 x 10 =  10, \t\t 1 x 11 =  11, \t\t 1 x 12 =  12, \t\t\n",
            " 2 x  1 =   2, \t\t 2 x  2 =   4, \t\t 2 x  3 =   6, \t\t 2 x  4 =   8, \t\t 2 x  5 =  10, \t\t 2 x  6 =  12, \t\t 2 x  7 =  14, \t\t 2 x  8 =  16, \t\t 2 x  9 =  18, \t\t 2 x 10 =  20, \t\t 2 x 11 =  22, \t\t 2 x 12 =  24, \t\t\n",
            " 3 x  1 =   3, \t\t 3 x  2 =   6, \t\t 3 x  3 =   9, \t\t 3 x  4 =  12, \t\t 3 x  5 =  15, \t\t 3 x  6 =  18, \t\t 3 x  7 =  21, \t\t 3 x  8 =  24, \t\t 3 x  9 =  27, \t\t 3 x 10 =  30, \t\t 3 x 11 =  33, \t\t 3 x 12 =  36, \t\t\n",
            " 4 x  1 =   4, \t\t 4 x  2 =   8, \t\t 4 x  3 =  12, \t\t 4 x  4 =  16, \t\t 4 x  5 =  20, \t\t 4 x  6 =  24, \t\t 4 x  7 =  28, \t\t 4 x  8 =  32, \t\t 4 x  9 =  36, \t\t 4 x 10 =  40, \t\t 4 x 11 =  44, \t\t 4 x 12 =  48, \t\t\n",
            " 5 x  1 =   5, \t\t 5 x  2 =  10, \t\t 5 x  3 =  15, \t\t 5 x  4 =  20, \t\t 5 x  5 =  25, \t\t 5 x  6 =  30, \t\t 5 x  7 =  35, \t\t 5 x  8 =  40, \t\t 5 x  9 =  45, \t\t 5 x 10 =  50, \t\t 5 x 11 =  55, \t\t 5 x 12 =  60, \t\t\n",
            " 6 x  1 =   6, \t\t 6 x  2 =  12, \t\t 6 x  3 =  18, \t\t 6 x  4 =  24, \t\t 6 x  5 =  30, \t\t 6 x  6 =  36, \t\t 6 x  7 =  42, \t\t 6 x  8 =  48, \t\t 6 x  9 =  54, \t\t 6 x 10 =  60, \t\t 6 x 11 =  66, \t\t 6 x 12 =  72, \t\t\n",
            " 7 x  1 =   7, \t\t 7 x  2 =  14, \t\t 7 x  3 =  21, \t\t 7 x  4 =  28, \t\t 7 x  5 =  35, \t\t 7 x  6 =  42, \t\t 7 x  7 =  49, \t\t 7 x  8 =  56, \t\t 7 x  9 =  63, \t\t 7 x 10 =  70, \t\t 7 x 11 =  77, \t\t 7 x 12 =  84, \t\t\n",
            " 8 x  1 =   8, \t\t 8 x  2 =  16, \t\t 8 x  3 =  24, \t\t 8 x  4 =  32, \t\t 8 x  5 =  40, \t\t 8 x  6 =  48, \t\t 8 x  7 =  56, \t\t 8 x  8 =  64, \t\t 8 x  9 =  72, \t\t 8 x 10 =  80, \t\t 8 x 11 =  88, \t\t 8 x 12 =  96, \t\t\n",
            " 9 x  1 =   9, \t\t 9 x  2 =  18, \t\t 9 x  3 =  27, \t\t 9 x  4 =  36, \t\t 9 x  5 =  45, \t\t 9 x  6 =  54, \t\t 9 x  7 =  63, \t\t 9 x  8 =  72, \t\t 9 x  9 =  81, \t\t 9 x 10 =  90, \t\t 9 x 11 =  99, \t\t 9 x 12 = 108, \t\t\n",
            "10 x  1 =  10, \t\t10 x  2 =  20, \t\t10 x  3 =  30, \t\t10 x  4 =  40, \t\t10 x  5 =  50, \t\t10 x  6 =  60, \t\t10 x  7 =  70, \t\t10 x  8 =  80, \t\t10 x  9 =  90, \t\t10 x 10 = 100, \t\t10 x 11 = 110, \t\t10 x 12 = 120, \t\t\n",
            "11 x  1 =  11, \t\t11 x  2 =  22, \t\t11 x  3 =  33, \t\t11 x  4 =  44, \t\t11 x  5 =  55, \t\t11 x  6 =  66, \t\t11 x  7 =  77, \t\t11 x  8 =  88, \t\t11 x  9 =  99, \t\t11 x 10 = 110, \t\t11 x 11 = 121, \t\t11 x 12 = 132, \t\t\n",
            "12 x  1 =  12, \t\t12 x  2 =  24, \t\t12 x  3 =  36, \t\t12 x  4 =  48, \t\t12 x  5 =  60, \t\t12 x  6 =  72, \t\t12 x  7 =  84, \t\t12 x  8 =  96, \t\t12 x  9 = 108, \t\t12 x 10 = 120, \t\t12 x 11 = 132, \t\t12 x 12 = 144, \t\t\n"
          ]
        }
      ]
    },
    {
      "cell_type": "markdown",
      "metadata": {
        "id": "9rrBdAmjtllX"
      },
      "source": [
        "Now, lets add some color\n",
        "\n",
        "1.   Red for Squares\n",
        "2.   Blue for Nines\n",
        "3.   Black for 2x 4x 6x 8x\n",
        "4.   Green for 3x 7x\n"
      ]
    },
    {
      "cell_type": "code",
      "metadata": {
        "colab": {
          "base_uri": "https://localhost:8080/"
        },
        "id": "K1hjtt6DtwJF",
        "outputId": "80dc9c37-1fc8-4098-aef5-7ffb7a958532"
      },
      "source": [
        "x = 12 # Creating a range of values in the table\n",
        "line = \"\"  # Creating a string to print in a line of the times table\n",
        "r,g,b = 0,0,0\n",
        "print(\"\\033[38;2;255;0;0m Squares are Red\",\" \",\"\\033[38;2;0;0;255m 9x in Blue Adds to 9\",\" \",\" \\033[0m8x, 6x, 4x,2x is a combination of [0,2,4,6,8]\",\" \",\"\\033[38;2;0;255;0m 3x 7x in green\")\n",
        "for i in range(1,x+1):  # the first loop\n",
        "  line = \"\"\n",
        "  for j in range(1,x+1):\n",
        "    if i == j: r,g,b = 255,0,0\n",
        "    elif (int((i*j)// 10**2) + int((i*j)// 10**1) + int((i*j)// 10**0)) % 10 == 9 : r,g,b = 0,0,255\n",
        "    elif (int((i*j)// 10**2) + int((i*j)// 10**1) + int((i*j)// 10**0)) % 9 == 0: r,g,b = 0,0,255\n",
        "    elif j==7: r,g,b = 0,255,0\n",
        "    elif (((i*j)// 10**1) + ((i*j)// 10**0)) % 10==6: r,g,b = 0,127,0\n",
        "    else: r,g,b = 0,0,0\n",
        "\n",
        "    k = (int(((i*j)// 10**0)% 10) * \" \")+str(int(((i*j)// 10**0) % 10))\n",
        "    line += \"\\033[38;2;{};{};{}m {:2}  x {:2} = {:3} ==> {:10}\\033[0m\".format(r,g,b,i,j,i*j,k) + \",\\t\"\n",
        "  print(line)"
      ],
      "execution_count": 250,
      "outputs": [
        {
          "output_type": "stream",
          "name": "stdout",
          "text": [
            "\u001b[38;2;255;0;0m Squares are Red   \u001b[38;2;0;0;255m 9x in Blue Adds to 9    \u001b[0m8x, 6x, 4x,2x is a combination of [0,2,4,6,8]   \u001b[38;2;0;255;0m 3x 7x in green\n",
            "\u001b[38;2;255;0;0m  1  x  1 =   1 ==>  1        \u001b[0m,\t\u001b[38;2;0;0;0m  1  x  2 =   2 ==>   2       \u001b[0m,\t\u001b[38;2;0;0;0m  1  x  3 =   3 ==>    3      \u001b[0m,\t\u001b[38;2;0;0;0m  1  x  4 =   4 ==>     4     \u001b[0m,\t\u001b[38;2;0;0;0m  1  x  5 =   5 ==>      5    \u001b[0m,\t\u001b[38;2;0;127;0m  1  x  6 =   6 ==>       6   \u001b[0m,\t\u001b[38;2;0;255;0m  1  x  7 =   7 ==>        7  \u001b[0m,\t\u001b[38;2;0;0;0m  1  x  8 =   8 ==>         8 \u001b[0m,\t\u001b[38;2;0;0;255m  1  x  9 =   9 ==>          9\u001b[0m,\t\u001b[38;2;0;0;0m  1  x 10 =  10 ==> 0         \u001b[0m,\t\u001b[38;2;0;0;0m  1  x 11 =  11 ==>  1        \u001b[0m,\t\u001b[38;2;0;0;0m  1  x 12 =  12 ==>   2       \u001b[0m,\t\n",
            "\u001b[38;2;0;0;0m  2  x  1 =   2 ==>   2       \u001b[0m,\t\u001b[38;2;255;0;0m  2  x  2 =   4 ==>     4     \u001b[0m,\t\u001b[38;2;0;127;0m  2  x  3 =   6 ==>       6   \u001b[0m,\t\u001b[38;2;0;0;0m  2  x  4 =   8 ==>         8 \u001b[0m,\t\u001b[38;2;0;0;0m  2  x  5 =  10 ==> 0         \u001b[0m,\t\u001b[38;2;0;0;0m  2  x  6 =  12 ==>   2       \u001b[0m,\t\u001b[38;2;0;255;0m  2  x  7 =  14 ==>     4     \u001b[0m,\t\u001b[38;2;0;0;0m  2  x  8 =  16 ==>       6   \u001b[0m,\t\u001b[38;2;0;0;255m  2  x  9 =  18 ==>         8 \u001b[0m,\t\u001b[38;2;0;0;0m  2  x 10 =  20 ==> 0         \u001b[0m,\t\u001b[38;2;0;0;0m  2  x 11 =  22 ==>   2       \u001b[0m,\t\u001b[38;2;0;127;0m  2  x 12 =  24 ==>     4     \u001b[0m,\t\n",
            "\u001b[38;2;0;0;0m  3  x  1 =   3 ==>    3      \u001b[0m,\t\u001b[38;2;0;127;0m  3  x  2 =   6 ==>       6   \u001b[0m,\t\u001b[38;2;255;0;0m  3  x  3 =   9 ==>          9\u001b[0m,\t\u001b[38;2;0;0;0m  3  x  4 =  12 ==>   2       \u001b[0m,\t\u001b[38;2;0;127;0m  3  x  5 =  15 ==>      5    \u001b[0m,\t\u001b[38;2;0;0;255m  3  x  6 =  18 ==>         8 \u001b[0m,\t\u001b[38;2;0;255;0m  3  x  7 =  21 ==>  1        \u001b[0m,\t\u001b[38;2;0;127;0m  3  x  8 =  24 ==>     4     \u001b[0m,\t\u001b[38;2;0;0;255m  3  x  9 =  27 ==>        7  \u001b[0m,\t\u001b[38;2;0;0;0m  3  x 10 =  30 ==> 0         \u001b[0m,\t\u001b[38;2;0;0;255m  3  x 11 =  33 ==>    3      \u001b[0m,\t\u001b[38;2;0;0;255m  3  x 12 =  36 ==>       6   \u001b[0m,\t\n",
            "\u001b[38;2;0;0;0m  4  x  1 =   4 ==>     4     \u001b[0m,\t\u001b[38;2;0;0;0m  4  x  2 =   8 ==>         8 \u001b[0m,\t\u001b[38;2;0;0;0m  4  x  3 =  12 ==>   2       \u001b[0m,\t\u001b[38;2;255;0;0m  4  x  4 =  16 ==>       6   \u001b[0m,\t\u001b[38;2;0;0;0m  4  x  5 =  20 ==> 0         \u001b[0m,\t\u001b[38;2;0;127;0m  4  x  6 =  24 ==>     4     \u001b[0m,\t\u001b[38;2;0;255;0m  4  x  7 =  28 ==>         8 \u001b[0m,\t\u001b[38;2;0;0;0m  4  x  8 =  32 ==>   2       \u001b[0m,\t\u001b[38;2;0;0;255m  4  x  9 =  36 ==>       6   \u001b[0m,\t\u001b[38;2;0;0;0m  4  x 10 =  40 ==> 0         \u001b[0m,\t\u001b[38;2;0;0;0m  4  x 11 =  44 ==>     4     \u001b[0m,\t\u001b[38;2;0;0;0m  4  x 12 =  48 ==>         8 \u001b[0m,\t\n",
            "\u001b[38;2;0;0;0m  5  x  1 =   5 ==>      5    \u001b[0m,\t\u001b[38;2;0;0;0m  5  x  2 =  10 ==> 0         \u001b[0m,\t\u001b[38;2;0;127;0m  5  x  3 =  15 ==>      5    \u001b[0m,\t\u001b[38;2;0;0;0m  5  x  4 =  20 ==> 0         \u001b[0m,\t\u001b[38;2;255;0;0m  5  x  5 =  25 ==>      5    \u001b[0m,\t\u001b[38;2;0;0;0m  5  x  6 =  30 ==> 0         \u001b[0m,\t\u001b[38;2;0;255;0m  5  x  7 =  35 ==>      5    \u001b[0m,\t\u001b[38;2;0;0;0m  5  x  8 =  40 ==> 0         \u001b[0m,\t\u001b[38;2;0;0;255m  5  x  9 =  45 ==>      5    \u001b[0m,\t\u001b[38;2;0;0;0m  5  x 10 =  50 ==> 0         \u001b[0m,\t\u001b[38;2;0;0;0m  5  x 11 =  55 ==>      5    \u001b[0m,\t\u001b[38;2;0;127;0m  5  x 12 =  60 ==> 0         \u001b[0m,\t\n",
            "\u001b[38;2;0;127;0m  6  x  1 =   6 ==>       6   \u001b[0m,\t\u001b[38;2;0;0;0m  6  x  2 =  12 ==>   2       \u001b[0m,\t\u001b[38;2;0;0;255m  6  x  3 =  18 ==>         8 \u001b[0m,\t\u001b[38;2;0;127;0m  6  x  4 =  24 ==>     4     \u001b[0m,\t\u001b[38;2;0;0;0m  6  x  5 =  30 ==> 0         \u001b[0m,\t\u001b[38;2;255;0;0m  6  x  6 =  36 ==>       6   \u001b[0m,\t\u001b[38;2;0;255;0m  6  x  7 =  42 ==>   2       \u001b[0m,\t\u001b[38;2;0;0;0m  6  x  8 =  48 ==>         8 \u001b[0m,\t\u001b[38;2;0;0;255m  6  x  9 =  54 ==>     4     \u001b[0m,\t\u001b[38;2;0;127;0m  6  x 10 =  60 ==> 0         \u001b[0m,\t\u001b[38;2;0;0;255m  6  x 11 =  66 ==>       6   \u001b[0m,\t\u001b[38;2;0;0;255m  6  x 12 =  72 ==>   2       \u001b[0m,\t\n",
            "\u001b[38;2;0;0;0m  7  x  1 =   7 ==>        7  \u001b[0m,\t\u001b[38;2;0;0;0m  7  x  2 =  14 ==>     4     \u001b[0m,\t\u001b[38;2;0;0;0m  7  x  3 =  21 ==>  1        \u001b[0m,\t\u001b[38;2;0;0;0m  7  x  4 =  28 ==>         8 \u001b[0m,\t\u001b[38;2;0;0;0m  7  x  5 =  35 ==>      5    \u001b[0m,\t\u001b[38;2;0;127;0m  7  x  6 =  42 ==>   2       \u001b[0m,\t\u001b[38;2;255;0;0m  7  x  7 =  49 ==>          9\u001b[0m,\t\u001b[38;2;0;0;0m  7  x  8 =  56 ==>       6   \u001b[0m,\t\u001b[38;2;0;0;255m  7  x  9 =  63 ==>    3      \u001b[0m,\t\u001b[38;2;0;0;0m  7  x 10 =  70 ==> 0         \u001b[0m,\t\u001b[38;2;0;0;0m  7  x 11 =  77 ==>        7  \u001b[0m,\t\u001b[38;2;0;0;0m  7  x 12 =  84 ==>     4     \u001b[0m,\t\n",
            "\u001b[38;2;0;0;0m  8  x  1 =   8 ==>         8 \u001b[0m,\t\u001b[38;2;0;0;0m  8  x  2 =  16 ==>       6   \u001b[0m,\t\u001b[38;2;0;127;0m  8  x  3 =  24 ==>     4     \u001b[0m,\t\u001b[38;2;0;0;0m  8  x  4 =  32 ==>   2       \u001b[0m,\t\u001b[38;2;0;0;0m  8  x  5 =  40 ==> 0         \u001b[0m,\t\u001b[38;2;0;0;0m  8  x  6 =  48 ==>         8 \u001b[0m,\t\u001b[38;2;0;255;0m  8  x  7 =  56 ==>       6   \u001b[0m,\t\u001b[38;2;255;0;0m  8  x  8 =  64 ==>     4     \u001b[0m,\t\u001b[38;2;0;0;255m  8  x  9 =  72 ==>   2       \u001b[0m,\t\u001b[38;2;0;0;0m  8  x 10 =  80 ==> 0         \u001b[0m,\t\u001b[38;2;0;127;0m  8  x 11 =  88 ==>         8 \u001b[0m,\t\u001b[38;2;0;0;0m  8  x 12 =  96 ==>       6   \u001b[0m,\t\n",
            "\u001b[38;2;0;0;255m  9  x  1 =   9 ==>          9\u001b[0m,\t\u001b[38;2;0;0;255m  9  x  2 =  18 ==>         8 \u001b[0m,\t\u001b[38;2;0;0;255m  9  x  3 =  27 ==>        7  \u001b[0m,\t\u001b[38;2;0;0;255m  9  x  4 =  36 ==>       6   \u001b[0m,\t\u001b[38;2;0;0;255m  9  x  5 =  45 ==>      5    \u001b[0m,\t\u001b[38;2;0;0;255m  9  x  6 =  54 ==>     4     \u001b[0m,\t\u001b[38;2;0;0;255m  9  x  7 =  63 ==>    3      \u001b[0m,\t\u001b[38;2;0;0;255m  9  x  8 =  72 ==>   2       \u001b[0m,\t\u001b[38;2;255;0;0m  9  x  9 =  81 ==>  1        \u001b[0m,\t\u001b[38;2;0;0;255m  9  x 10 =  90 ==> 0         \u001b[0m,\t\u001b[38;2;0;0;255m  9  x 11 =  99 ==>          9\u001b[0m,\t\u001b[38;2;0;0;255m  9  x 12 = 108 ==>         8 \u001b[0m,\t\n",
            "\u001b[38;2;0;0;0m 10  x  1 =  10 ==> 0         \u001b[0m,\t\u001b[38;2;0;0;0m 10  x  2 =  20 ==> 0         \u001b[0m,\t\u001b[38;2;0;0;0m 10  x  3 =  30 ==> 0         \u001b[0m,\t\u001b[38;2;0;0;0m 10  x  4 =  40 ==> 0         \u001b[0m,\t\u001b[38;2;0;0;0m 10  x  5 =  50 ==> 0         \u001b[0m,\t\u001b[38;2;0;127;0m 10  x  6 =  60 ==> 0         \u001b[0m,\t\u001b[38;2;0;255;0m 10  x  7 =  70 ==> 0         \u001b[0m,\t\u001b[38;2;0;0;0m 10  x  8 =  80 ==> 0         \u001b[0m,\t\u001b[38;2;0;0;255m 10  x  9 =  90 ==> 0         \u001b[0m,\t\u001b[38;2;255;0;0m 10  x 10 = 100 ==> 0         \u001b[0m,\t\u001b[38;2;0;0;0m 10  x 11 = 110 ==> 0         \u001b[0m,\t\u001b[38;2;0;0;0m 10  x 12 = 120 ==> 0         \u001b[0m,\t\n",
            "\u001b[38;2;0;0;0m 11  x  1 =  11 ==>  1        \u001b[0m,\t\u001b[38;2;0;0;0m 11  x  2 =  22 ==>   2       \u001b[0m,\t\u001b[38;2;0;0;255m 11  x  3 =  33 ==>    3      \u001b[0m,\t\u001b[38;2;0;0;0m 11  x  4 =  44 ==>     4     \u001b[0m,\t\u001b[38;2;0;0;0m 11  x  5 =  55 ==>      5    \u001b[0m,\t\u001b[38;2;0;0;255m 11  x  6 =  66 ==>       6   \u001b[0m,\t\u001b[38;2;0;255;0m 11  x  7 =  77 ==>        7  \u001b[0m,\t\u001b[38;2;0;127;0m 11  x  8 =  88 ==>         8 \u001b[0m,\t\u001b[38;2;0;0;255m 11  x  9 =  99 ==>          9\u001b[0m,\t\u001b[38;2;0;0;0m 11  x 10 = 110 ==> 0         \u001b[0m,\t\u001b[38;2;255;0;0m 11  x 11 = 121 ==>  1        \u001b[0m,\t\u001b[38;2;0;0;0m 11  x 12 = 132 ==>   2       \u001b[0m,\t\n",
            "\u001b[38;2;0;0;0m 12  x  1 =  12 ==>   2       \u001b[0m,\t\u001b[38;2;0;127;0m 12  x  2 =  24 ==>     4     \u001b[0m,\t\u001b[38;2;0;0;255m 12  x  3 =  36 ==>       6   \u001b[0m,\t\u001b[38;2;0;0;0m 12  x  4 =  48 ==>         8 \u001b[0m,\t\u001b[38;2;0;127;0m 12  x  5 =  60 ==> 0         \u001b[0m,\t\u001b[38;2;0;0;255m 12  x  6 =  72 ==>   2       \u001b[0m,\t\u001b[38;2;0;255;0m 12  x  7 =  84 ==>     4     \u001b[0m,\t\u001b[38;2;0;0;0m 12  x  8 =  96 ==>       6   \u001b[0m,\t\u001b[38;2;0;0;255m 12  x  9 = 108 ==>         8 \u001b[0m,\t\u001b[38;2;0;0;0m 12  x 10 = 120 ==> 0         \u001b[0m,\t\u001b[38;2;0;0;0m 12  x 11 = 132 ==>   2       \u001b[0m,\t\u001b[38;2;255;0;0m 12  x 12 = 144 ==>     4     \u001b[0m,\t\n"
          ]
        }
      ]
    }
  ]
}