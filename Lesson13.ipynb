{
  "nbformat": 4,
  "nbformat_minor": 0,
  "metadata": {
    "colab": {
      "name": "Lesson13.ipynb",
      "private_outputs": true,
      "provenance": [],
      "collapsed_sections": [],
      "mount_file_id": "1oa0KWoTXHHuT_vtq-Kvb6dQqprvzMgg2",
      "authorship_tag": "ABX9TyOkFybAi6VDw7N4TJU0Rbig",
      "include_colab_link": true
    },
    "kernelspec": {
      "name": "python3",
      "display_name": "Python 3"
    },
    "language_info": {
      "name": "python"
    },
    "accelerator": "GPU"
  },
  "cells": [
    {
      "cell_type": "markdown",
      "metadata": {
        "id": "view-in-github",
        "colab_type": "text"
      },
      "source": [
        "<a href=\"https://colab.research.google.com/github/kanacb/pythonmasterclass/blob/main/Lesson13.ipynb\" target=\"_parent\"><img src=\"https://colab.research.google.com/assets/colab-badge.svg\" alt=\"Open In Colab\"/></a>"
      ]
    },
    {
      "cell_type": "code",
      "metadata": {
        "id": "vfqpUvQFhCll"
      },
      "source": [
        "!pip install stopwords\n",
        "!pip install emoji"
      ],
      "execution_count": null,
      "outputs": []
    },
    {
      "cell_type": "code",
      "metadata": {
        "id": "ypV_z2JOaY6F"
      },
      "source": [
        "import re\n",
        "import regex\n",
        "import pandas as pd\n",
        "import numpy as np\n",
        "import emoji\n",
        "import plotly.express as px\n",
        "from collections import Counter\n",
        "import nltk \n",
        "from nltk.tokenize import word_tokenize\n",
        "from nltk.probability import FreqDist\n",
        "#from nltk.corpus\n",
        "import stopwords\n",
        "from datetime import datetime, timedelta, date\n",
        "import matplotlib.pyplot as plt\n",
        "import seaborn as sns\n",
        "from os import path\n",
        "from PIL import Image\n",
        "from wordcloud import WordCloud, STOPWORDS, ImageColorGenerator\n",
        "%matplotlib inline"
      ],
      "execution_count": null,
      "outputs": []
    },
    {
      "cell_type": "code",
      "metadata": {
        "id": "wuk9RfK4ah88"
      },
      "source": [
        "def startsWithDateAndTime(s):\n",
        "    pattern = '^\\d{1,2}/\\d{1,2}/\\d{1,4}, \\d{1,2}:\\d{1,2}\\S [AaPp][Mm] -'\n",
        "    result = re.match(pattern, s)\n",
        "    if result:\n",
        "        return True\n",
        "    return False\n",
        "  \n",
        "def FindAuthor(s):\n",
        "    patterns = [\n",
        "        '([\\w]+):',                        # Nombre\n",
        "        '([\\w]+[\\s]+[\\w]+):',              # Nombre + Apellido\n",
        "        '([\\w]+[\\s]+[\\w]+[\\s]+[\\w]+):',    # Nombre + Segundo Nombre + Apellido\n",
        "        '([\\w]+)[\\u263a-\\U0001f999]+:',    # Nombre con Emoji              \n",
        "    ]\n",
        "    pattern = '^' + '|'.join(patterns)\n",
        "    result = re.match(pattern, s)\n",
        "    if result:\n",
        "        return True\n",
        "    return False\n",
        "\n",
        "def getDataPoint(line):   \n",
        "    splitLine = line.split(' - ') \n",
        "    dateTime = splitLine[0]\n",
        "    message = ' '.join(splitLine[1:])\n",
        "    if FindAuthor(message): \n",
        "        splitMessage = message.split(': ') \n",
        "        author = splitMessage[0] \n",
        "        message = ' '.join(splitMessage[1:])\n",
        "    else:\n",
        "        author = None\n",
        "    return dateTime, author, message"
      ],
      "execution_count": null,
      "outputs": []
    },
    {
      "cell_type": "code",
      "metadata": {
        "id": "IovcaTrqik6H"
      },
      "source": [
        "conversationPath = '/content/whatsapp_text.txt'"
      ],
      "execution_count": null,
      "outputs": []
    },
    {
      "cell_type": "code",
      "metadata": {
        "id": "eDAdOKkGayO1"
      },
      "source": [
        "parsedData = [] \n",
        "\n",
        "with open(conversationPath, encoding=\"utf-8\") as fp:\n",
        "    fp.readline() \n",
        "    messageBuffer = [] \n",
        "    datetime, author = None, None\n",
        "    while True:\n",
        "        line = fp.readline() \n",
        "        if not line: \n",
        "            break\n",
        "        line = line.strip() \n",
        "        if startsWithDateAndTime(line): \n",
        "            if len(messageBuffer) > 0: \n",
        "                parsedData.append([dateTime, author, ' '.join(messageBuffer)]) \n",
        "            messageBuffer.clear() \n",
        "            dateTime, author, message = getDataPoint(line) \n",
        "            messageBuffer.append(message) \n",
        "        else:\n",
        "            messageBuffer.append(line)\n",
        "\n",
        "chat = pd.DataFrame(parsedData, columns=['DateTime', 'Author', 'Message']) "
      ],
      "execution_count": null,
      "outputs": []
    },
    {
      "cell_type": "code",
      "metadata": {
        "id": "mce8P8erjfM1"
      },
      "source": [
        "chat[\"DateTime\"] = pd.to_datetime(chat[\"DateTime\"])\n",
        "chat['date'] = [d.date() for d in chat['DateTime']] #column date\n",
        "chat['messages'] = 0\n",
        "chat.index = chat['date']\n",
        "chat = chat.drop(columns=['DateTime','Message','date'])\n",
        "chat = chat.groupby(['date','Author']).count().reset_index()\n",
        "chat = pd.DataFrame(chat)\n",
        "chat.index = chat['date']\n",
        "chat = chat.drop(columns=['date'])\n",
        "chat = chat.pivot(columns=['Author'],values='messages')\n",
        "chat = chat.cumsum()\n",
        "df1 = chat\n",
        "df1 = df1.loc[(df1 != 0).any(1)]\n",
        "df1.index = pd.to_datetime(df1.index)\n",
        "df1"
      ],
      "execution_count": null,
      "outputs": []
    },
    {
      "cell_type": "code",
      "metadata": {
        "id": "wzzjRtfxaaMq"
      },
      "source": [
        "df2 = df1.max()\n",
        "df2.sort_values(ascending=False)"
      ],
      "execution_count": null,
      "outputs": []
    },
    {
      "cell_type": "code",
      "metadata": {
        "id": "bB4FvBaQGKsh"
      },
      "source": [
        "import matplotlib.animation as ani\n",
        "color = ['red', 'green', 'blue', 'orange','purple','gold']\n",
        "fig = plt.figure()\n",
        "plt.xticks(rotation=45, ha=\"right\", rotation_mode=\"anchor\") #rotate the x-axis values\n",
        "plt.subplots_adjust(bottom = 0.1, top = 10.9) #ensuring the dates (on the x-axis) fit in the screen\n",
        "plt.ylabel('No of Cock Messages')\n",
        "plt.xlabel('Dates')\n",
        "plt.title('Load of crap')\n",
        "def buildmebarchart(i=int):\n",
        "  plt.legend(df1.columns)\n",
        "  p = plt.plot(df1[:i].index, df1[:i].values) #note it only returns the dataset, up to the point i\n",
        "  for i in range(0,38):\n",
        "    p[i].set_color(color[i%6]) #set the colour of each curve\n",
        "animator = ani.FuncAnimation(fig, buildmebarchart,interval=200)\n",
        "plt.close()\n",
        "from IPython.display import HTML\n",
        "HTML(animator.to_html5_video())\n"
      ],
      "execution_count": null,
      "outputs": []
    },
    {
      "cell_type": "code",
      "metadata": {
        "id": "OU2O6rw-R7ta"
      },
      "source": [
        ""
      ],
      "execution_count": null,
      "outputs": []
    }
  ]
}