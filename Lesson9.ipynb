{
  "nbformat": 4,
  "nbformat_minor": 0,
  "metadata": {
    "colab": {
      "name": "Lesson9.ipynb",
      "private_outputs": true,
      "provenance": [],
      "collapsed_sections": [],
      "authorship_tag": "ABX9TyM6xd/RFFM4eTJonqa97LhF",
      "include_colab_link": true
    },
    "kernelspec": {
      "name": "python3",
      "display_name": "Python 3"
    },
    "language_info": {
      "name": "python"
    }
  },
  "cells": [
    {
      "cell_type": "markdown",
      "metadata": {
        "id": "view-in-github",
        "colab_type": "text"
      },
      "source": [
        "<a href=\"https://colab.research.google.com/github/kanacb/pythonmasterclass/blob/main/Lesson9.ipynb\" target=\"_parent\"><img src=\"https://colab.research.google.com/assets/colab-badge.svg\" alt=\"Open In Colab\"/></a>"
      ]
    },
    {
      "cell_type": "code",
      "metadata": {
        "id": "HMunnWKWf4ht"
      },
      "source": [
        "#Lesson9\n",
        "#Web Scraping\n",
        "!pip install cloudscraper\n",
        "import cloudscraper\n",
        "from bs4 import BeautifulSoup as b4\n"
      ],
      "execution_count": null,
      "outputs": []
    },
    {
      "cell_type": "code",
      "metadata": {
        "id": "6LjhktQKiGKD"
      },
      "source": [
        "scraper = cloudscraper.create_scraper(\n",
        "    browser={\n",
        "        'browser': 'chrome',\n",
        "        'platform': 'windows',\n",
        "        'mobile': False\n",
        "    }\n",
        ")  # returns a CloudScraper instance\n",
        "url = 'https://en.wikipedia.org/wiki/IPhone'\n",
        "print(\"status code\",scraper.post(url).status_code)\n"
      ],
      "execution_count": null,
      "outputs": []
    },
    {
      "cell_type": "code",
      "metadata": {
        "id": "yQPeLqJQbTu5"
      },
      "source": [
        "html = scraper.get(url).text  # => \"<!DOCTYPE html><html><head>...\"\n",
        "page_soup = b4(html, \"html.parser\")\n",
        "print(page_soup)"
      ],
      "execution_count": null,
      "outputs": []
    },
    {
      "cell_type": "code",
      "metadata": {
        "id": "bL1VM3xjhs-F"
      },
      "source": [
        "page_soup.text"
      ],
      "execution_count": null,
      "outputs": []
    },
    {
      "cell_type": "code",
      "metadata": {
        "id": "xjgxS_ddiAIc"
      },
      "source": [
        "page_soup.find('img')"
      ],
      "execution_count": null,
      "outputs": []
    },
    {
      "cell_type": "code",
      "metadata": {
        "id": "iOUz1YKOiNhI"
      },
      "source": [
        "page_soup.find('h2')"
      ],
      "execution_count": null,
      "outputs": []
    },
    {
      "cell_type": "code",
      "metadata": {
        "id": "BPYugICqib6L"
      },
      "source": [
        "page_soup.find('img')['src']"
      ],
      "execution_count": null,
      "outputs": []
    }
  ]
}