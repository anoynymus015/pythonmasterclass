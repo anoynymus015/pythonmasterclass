{
  "nbformat": 4,
  "nbformat_minor": 0,
  "metadata": {
    "colab": {
      "name": "Lesson5.ipynb",
      "provenance": [],
      "toc_visible": true,
      "authorship_tag": "ABX9TyOLy1VWy8puSdGqNAr4Vwe5",
      "include_colab_link": true
    },
    "kernelspec": {
      "name": "python3",
      "display_name": "Python 3"
    },
    "language_info": {
      "name": "python"
    }
  },
  "cells": [
    {
      "cell_type": "markdown",
      "metadata": {
        "id": "view-in-github",
        "colab_type": "text"
      },
      "source": [
        "<a href=\"https://colab.research.google.com/github/kanacb/pythonmasterclass/blob/main/Lesson5.ipynb\" target=\"_parent\"><img src=\"https://colab.research.google.com/assets/colab-badge.svg\" alt=\"Open In Colab\"/></a>"
      ]
    },
    {
      "cell_type": "markdown",
      "metadata": {
        "id": "SFtzkAnymJeS"
      },
      "source": [
        "# Lesson 5 - Data Handling\n",
        "\n",
        "85% of Data Science projects have failed because we dont know how to handle our data. This exercise you will learn how to wrangler data like a Texan on wild mustang. Get ready to learn some hard core maneuvers to impress your creative abilities."
      ]
    },
    {
      "cell_type": "code",
      "metadata": {
        "id": "_RfEaN1ZmF_p"
      },
      "source": [
        ""
      ],
      "execution_count": null,
      "outputs": []
    }
  ]
}