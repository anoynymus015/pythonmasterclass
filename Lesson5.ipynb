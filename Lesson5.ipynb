{
  "nbformat": 4,
  "nbformat_minor": 0,
  "metadata": {
    "colab": {
      "name": "Lesson5.ipynb",
      "provenance": [],
      "collapsed_sections": [],
      "mount_file_id": "1YhG6Oh3waYJhpWuVsNWzAhpEKMbPYLCA",
      "authorship_tag": "ABX9TyNx8MIqmI/O2D/sbo3ez1jG",
      "include_colab_link": true
    },
    "kernelspec": {
      "name": "python3",
      "display_name": "Python 3"
    },
    "language_info": {
      "name": "python"
    }
  },
  "cells": [
    {
      "cell_type": "markdown",
      "metadata": {
        "id": "view-in-github",
        "colab_type": "text"
      },
      "source": [
        "<a href=\"https://colab.research.google.com/github/kanacb/pythonmasterclass/blob/main/Lesson5.ipynb\" target=\"_parent\"><img src=\"https://colab.research.google.com/assets/colab-badge.svg\" alt=\"Open In Colab\"/></a>"
      ]
    },
    {
      "cell_type": "markdown",
      "metadata": {
        "id": "SFtzkAnymJeS"
      },
      "source": [
        "# Lesson 5 - Data Handling\n",
        "\n",
        "85% of Data Science projects have failed because we don't know how to handle data. This exercise, you will learn how to wrangle data like a Texan on wild Mustang. Get ready to learn some hardcore maneuvers to impress your creative abilities on how you can handle data. We begin looking at it from a statistical point of view and then begin to extarct information that is key to understand the data. Now you are ready to tame any wild mustang out there.\n",
        "\n",
        "\n",
        " <img class=\"center\" src=\"https://blogs.sas.com/content/datamanagement/files/2016/09/43621333-300x255.jpg\">\n",
        "\n"
      ]
    },
    {
      "cell_type": "markdown",
      "metadata": {
        "id": "fi5LQ3bk26tu"
      },
      "source": [
        "# Pandas, why and how it can help us?\n",
        "\n",
        "Create a simple dataset to view the basic of statistics. Lets explore the panda. Is it black with spots or white black spots? "
      ]
    },
    {
      "cell_type": "code",
      "metadata": {
        "id": "_RfEaN1ZmF_p",
        "colab": {
          "base_uri": "https://localhost:8080/",
          "height": 331
        },
        "outputId": "8f96bff6-4da1-4140-cdaf-4b1101088b60"
      },
      "source": [
        "import numpy as py\n",
        "import pandas as pd\n",
        "import sys                             # Read system parameters.\n",
        "import os  \n",
        "import matplotlib                      # Create 2D charts.\n",
        "import matplotlib.pyplot as plt\n",
        "data = [1,2,2,3,3,3,4,4,5]\n",
        "df = pd.DataFrame(data)\n",
        "df"
      ],
      "execution_count": 4,
      "outputs": [
        {
          "output_type": "execute_result",
          "data": {
            "text/html": [
              "<div>\n",
              "<style scoped>\n",
              "    .dataframe tbody tr th:only-of-type {\n",
              "        vertical-align: middle;\n",
              "    }\n",
              "\n",
              "    .dataframe tbody tr th {\n",
              "        vertical-align: top;\n",
              "    }\n",
              "\n",
              "    .dataframe thead th {\n",
              "        text-align: right;\n",
              "    }\n",
              "</style>\n",
              "<table border=\"1\" class=\"dataframe\">\n",
              "  <thead>\n",
              "    <tr style=\"text-align: right;\">\n",
              "      <th></th>\n",
              "      <th>0</th>\n",
              "    </tr>\n",
              "  </thead>\n",
              "  <tbody>\n",
              "    <tr>\n",
              "      <th>0</th>\n",
              "      <td>1</td>\n",
              "    </tr>\n",
              "    <tr>\n",
              "      <th>1</th>\n",
              "      <td>2</td>\n",
              "    </tr>\n",
              "    <tr>\n",
              "      <th>2</th>\n",
              "      <td>2</td>\n",
              "    </tr>\n",
              "    <tr>\n",
              "      <th>3</th>\n",
              "      <td>3</td>\n",
              "    </tr>\n",
              "    <tr>\n",
              "      <th>4</th>\n",
              "      <td>3</td>\n",
              "    </tr>\n",
              "    <tr>\n",
              "      <th>5</th>\n",
              "      <td>3</td>\n",
              "    </tr>\n",
              "    <tr>\n",
              "      <th>6</th>\n",
              "      <td>4</td>\n",
              "    </tr>\n",
              "    <tr>\n",
              "      <th>7</th>\n",
              "      <td>4</td>\n",
              "    </tr>\n",
              "    <tr>\n",
              "      <th>8</th>\n",
              "      <td>5</td>\n",
              "    </tr>\n",
              "  </tbody>\n",
              "</table>\n",
              "</div>"
            ],
            "text/plain": [
              "   0\n",
              "0  1\n",
              "1  2\n",
              "2  2\n",
              "3  3\n",
              "4  3\n",
              "5  3\n",
              "6  4\n",
              "7  4\n",
              "8  5"
            ]
          },
          "metadata": {},
          "execution_count": 4
        }
      ]
    },
    {
      "cell_type": "markdown",
      "metadata": {
        "id": "LBwq1wUQ25g3"
      },
      "source": [
        "Description of data.\n",
        "1. Count = number of elements in the array\n",
        "2. mean = the mean value, is the average value\n",
        "3. std = standard deviation\n",
        "4. min = the minimum value in the array\n",
        "5. 25% = 25% quartile of the values\n",
        "6. 50% = 50% quartile of the values\n",
        "7. 75% = 75% quartile of the values\n",
        "8. max = the maximu value in the array"
      ]
    },
    {
      "cell_type": "code",
      "metadata": {
        "colab": {
          "base_uri": "https://localhost:8080/",
          "height": 299
        },
        "id": "eClQlEt8E22E",
        "outputId": "779a606d-f872-4ace-b44d-c5ea88f02e05"
      },
      "source": [
        "df.describe()"
      ],
      "execution_count": 4,
      "outputs": [
        {
          "output_type": "execute_result",
          "data": {
            "text/html": [
              "<div>\n",
              "<style scoped>\n",
              "    .dataframe tbody tr th:only-of-type {\n",
              "        vertical-align: middle;\n",
              "    }\n",
              "\n",
              "    .dataframe tbody tr th {\n",
              "        vertical-align: top;\n",
              "    }\n",
              "\n",
              "    .dataframe thead th {\n",
              "        text-align: right;\n",
              "    }\n",
              "</style>\n",
              "<table border=\"1\" class=\"dataframe\">\n",
              "  <thead>\n",
              "    <tr style=\"text-align: right;\">\n",
              "      <th></th>\n",
              "      <th>0</th>\n",
              "    </tr>\n",
              "  </thead>\n",
              "  <tbody>\n",
              "    <tr>\n",
              "      <th>count</th>\n",
              "      <td>9.000000</td>\n",
              "    </tr>\n",
              "    <tr>\n",
              "      <th>mean</th>\n",
              "      <td>3.000000</td>\n",
              "    </tr>\n",
              "    <tr>\n",
              "      <th>std</th>\n",
              "      <td>1.224745</td>\n",
              "    </tr>\n",
              "    <tr>\n",
              "      <th>min</th>\n",
              "      <td>1.000000</td>\n",
              "    </tr>\n",
              "    <tr>\n",
              "      <th>25%</th>\n",
              "      <td>2.000000</td>\n",
              "    </tr>\n",
              "    <tr>\n",
              "      <th>50%</th>\n",
              "      <td>3.000000</td>\n",
              "    </tr>\n",
              "    <tr>\n",
              "      <th>75%</th>\n",
              "      <td>4.000000</td>\n",
              "    </tr>\n",
              "    <tr>\n",
              "      <th>max</th>\n",
              "      <td>5.000000</td>\n",
              "    </tr>\n",
              "  </tbody>\n",
              "</table>\n",
              "</div>"
            ],
            "text/plain": [
              "              0\n",
              "count  9.000000\n",
              "mean   3.000000\n",
              "std    1.224745\n",
              "min    1.000000\n",
              "25%    2.000000\n",
              "50%    3.000000\n",
              "75%    4.000000\n",
              "max    5.000000"
            ]
          },
          "metadata": {},
          "execution_count": 4
        }
      ]
    },
    {
      "cell_type": "code",
      "metadata": {
        "colab": {
          "base_uri": "https://localhost:8080/",
          "height": 283
        },
        "id": "5u2RABT43I_X",
        "outputId": "d2ff148e-a5a6-4bdd-bb82-4e0e229695b0"
      },
      "source": [
        "df.plot.hist()"
      ],
      "execution_count": 5,
      "outputs": [
        {
          "output_type": "execute_result",
          "data": {
            "text/plain": [
              "<matplotlib.axes._subplots.AxesSubplot at 0x7fd41cd18950>"
            ]
          },
          "metadata": {},
          "execution_count": 5
        },
        {
          "output_type": "display_data",
          "data": {
            "image/png": "[encoded data removed]",
            "text/plain": [
              "<Figure size 432x288 with 1 Axes>"
            ]
          },
          "metadata": {
            "needs_background": "light"
          }
        }
      ]
    },
    {
      "cell_type": "code",
      "metadata": {
        "colab": {
          "base_uri": "https://localhost:8080/",
          "height": 572
        },
        "id": "YFBvsPLAABQh",
        "outputId": "ab94cec8-5c52-4b56-ee30-c9eaa75802a8"
      },
      "source": [
        "ax = df.plot.density(title=\"Probability Distribution Function\",figsize=(16,8),grid=True,legend=False)\n",
        "ax.axvline(x=df.describe()[0][1],label=\"asdf\")\n",
        "ax.text(3.1,0.2,\"mean\")\n",
        "ax.text(3.1,0.15,\"median\")\n",
        "ax.text(3.1,0.10,\"mode\")\n",
        "data = ax.get_lines()[0].get_data()\n",
        "hd = data[1].max()\n",
        "ax.axhline(hd,color=\"red\")\n",
        "ax.text(-1,hd-0.01,f\"Highest Density ({hd:0.3})\")\n",
        "#ax.fill_betweenx(1,2)\n",
        "print(\"mean is the average value\",df.mean(axis=0).values)\n",
        "print(\"median is the middle value\",df.median(axis=0).values)\n",
        "print(\"mode is value that occurs most often\",df.mode(axis=0).values)\n",
        "print(\"Highest Density value\",hd)"
      ],
      "execution_count": 6,
      "outputs": [
        {
          "output_type": "stream",
          "name": "stdout",
          "text": [
            "mean is the average value [3.]\n",
            "median is the middle value [3.]\n",
            "mode is value that occurs most often [[3]]\n",
            "Highest Density value 0.2736956262086172\n"
          ]
        },
        {
          "output_type": "display_data",
          "data": {
            "image/png": "[encoded data removed]",
            "text/plain": [
              "<Figure size 1152x576 with 1 Axes>"
            ]
          },
          "metadata": {
            "needs_background": "light"
          }
        }
      ]
    },
    {
      "cell_type": "code",
      "metadata": {
        "id": "rG4Ggd-KX0Hd"
      },
      "source": [
        "data"
      ],
      "execution_count": null,
      "outputs": []
    },
    {
      "cell_type": "markdown",
      "metadata": {
        "id": "MIB2Ll89WToF"
      },
      "source": [
        "> Standard Deviation\n",
        "\n",
        "\n",
        "\n",
        "\n"
      ]
    },
    {
      "cell_type": "markdown",
      "metadata": {
        "id": "O1ed93JZViT9"
      },
      "source": [
        "![1920px-Standard_deviation_diagram.svg.png](data:image/png;base64,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)"
      ]
    },
    {
      "cell_type": "markdown",
      "metadata": {
        "id": "NDLU50U0V7xt"
      },
      "source": [
        "The probability density function (pdf) of the normal distribution, also called Gaussian or \"bell curve\", the most important continuous random distribution. As notated on the figure, the probabilities of intervals of values correspond to the area under the curve."
      ]
    },
    {
      "cell_type": "markdown",
      "metadata": {
        "id": "JV7jAp9bFHzm"
      },
      "source": [
        "# Look At Real Data\n",
        "\n",
        "Clean data is all the same but dirty data is unique."
      ]
    },
    {
      "cell_type": "markdown",
      "metadata": {
        "id": "yAaBAsWFxbvB"
      },
      "source": [
        "<img src=\"https://cdn.britannica.com/70/205170-050-C8F46187/Titanic-survivors-lifeboats-May-15-1912.jpg\">"
      ]
    },
    {
      "cell_type": "code",
      "metadata": {
        "colab": {
          "base_uri": "https://localhost:8080/"
        },
        "id": "IK_zYv9zXXkU",
        "outputId": "53881267-86c0-4395-c4eb-2a8b2ba54260"
      },
      "source": [
        "data_raw = pd.read_csv('train.csv')\n",
        "print('Loaded {} records from {}.'.format(len(data_raw), data_raw_file))"
      ],
      "execution_count": 11,
      "outputs": [
        {
          "output_type": "stream",
          "name": "stdout",
          "text": [
            "Loaded 891 records from /content/drive/MyDrive/Colab Notebooks/CAIP/Classification/titanic_data/train.csv.\n"
          ]
        }
      ]
    },
    {
      "cell_type": "markdown",
      "metadata": {
        "id": "DXYcmwq7YIRq"
      },
      "source": [
        "# Get acquainted with the dataset"
      ]
    },
    {
      "cell_type": "code",
      "metadata": {
        "id": "2QCXe06MYGML",
        "colab": {
          "base_uri": "https://localhost:8080/",
          "height": 760
        },
        "outputId": "bf366dd6-7ba8-4bbe-e77a-0ccb57e972a5"
      },
      "source": [
        "print(data_raw.info())      # View data types and see if there are missing entries.\n",
        "data_raw.head(10)           # View first 10 records."
      ],
      "execution_count": 12,
      "outputs": [
        {
          "output_type": "stream",
          "name": "stdout",
          "text": [
            "<class 'pandas.core.frame.DataFrame'>\n",
            "RangeIndex: 891 entries, 0 to 890\n",
            "Data columns (total 12 columns):\n",
            " #   Column       Non-Null Count  Dtype  \n",
            "---  ------       --------------  -----  \n",
            " 0   PassengerId  891 non-null    int64  \n",
            " 1   Survived     891 non-null    int64  \n",
            " 2   Pclass       891 non-null    int64  \n",
            " 3   Name         891 non-null    object \n",
            " 4   Sex          891 non-null    object \n",
            " 5   Age          714 non-null    float64\n",
            " 6   SibSp        891 non-null    int64  \n",
            " 7   Parch        891 non-null    int64  \n",
            " 8   Ticket       891 non-null    object \n",
            " 9   Fare         891 non-null    float64\n",
            " 10  Cabin        204 non-null    object \n",
            " 11  Embarked     889 non-null    object \n",
            "dtypes: float64(2), int64(5), object(5)\n",
            "memory usage: 83.7+ KB\n",
            "None\n"
          ]
        },
        {
          "output_type": "execute_result",
          "data": {
            "text/html": [
              "<div>\n",
              "<style scoped>\n",
              "    .dataframe tbody tr th:only-of-type {\n",
              "        vertical-align: middle;\n",
              "    }\n",
              "\n",
              "    .dataframe tbody tr th {\n",
              "        vertical-align: top;\n",
              "    }\n",
              "\n",
              "    .dataframe thead th {\n",
              "        text-align: right;\n",
              "    }\n",
              "</style>\n",
              "<table border=\"1\" class=\"dataframe\">\n",
              "  <thead>\n",
              "    <tr style=\"text-align: right;\">\n",
              "      <th></th>\n",
              "      <th>PassengerId</th>\n",
              "      <th>Survived</th>\n",
              "      <th>Pclass</th>\n",
              "      <th>Name</th>\n",
              "      <th>Sex</th>\n",
              "      <th>Age</th>\n",
              "      <th>SibSp</th>\n",
              "      <th>Parch</th>\n",
              "      <th>Ticket</th>\n",
              "      <th>Fare</th>\n",
              "      <th>Cabin</th>\n",
              "      <th>Embarked</th>\n",
              "    </tr>\n",
              "  </thead>\n",
              "  <tbody>\n",
              "    <tr>\n",
              "      <th>0</th>\n",
              "      <td>1</td>\n",
              "      <td>0</td>\n",
              "      <td>3</td>\n",
              "      <td>Braund, Mr. Owen Harris</td>\n",
              "      <td>male</td>\n",
              "      <td>22.0</td>\n",
              "      <td>1</td>\n",
              "      <td>0</td>\n",
              "      <td>A/5 21171</td>\n",
              "      <td>7.2500</td>\n",
              "      <td>NaN</td>\n",
              "      <td>S</td>\n",
              "    </tr>\n",
              "    <tr>\n",
              "      <th>1</th>\n",
              "      <td>2</td>\n",
              "      <td>1</td>\n",
              "      <td>1</td>\n",
              "      <td>Cumings, Mrs. John Bradley (Florence Briggs Th...</td>\n",
              "      <td>female</td>\n",
              "      <td>38.0</td>\n",
              "      <td>1</td>\n",
              "      <td>0</td>\n",
              "      <td>PC 17599</td>\n",
              "      <td>71.2833</td>\n",
              "      <td>C85</td>\n",
              "      <td>C</td>\n",
              "    </tr>\n",
              "    <tr>\n",
              "      <th>2</th>\n",
              "      <td>3</td>\n",
              "      <td>1</td>\n",
              "      <td>3</td>\n",
              "      <td>Heikkinen, Miss. Laina</td>\n",
              "      <td>female</td>\n",
              "      <td>26.0</td>\n",
              "      <td>0</td>\n",
              "      <td>0</td>\n",
              "      <td>STON/O2. 3101282</td>\n",
              "      <td>7.9250</td>\n",
              "      <td>NaN</td>\n",
              "      <td>S</td>\n",
              "    </tr>\n",
              "    <tr>\n",
              "      <th>3</th>\n",
              "      <td>4</td>\n",
              "      <td>1</td>\n",
              "      <td>1</td>\n",
              "      <td>Futrelle, Mrs. Jacques Heath (Lily May Peel)</td>\n",
              "      <td>female</td>\n",
              "      <td>35.0</td>\n",
              "      <td>1</td>\n",
              "      <td>0</td>\n",
              "      <td>113803</td>\n",
              "      <td>53.1000</td>\n",
              "      <td>C123</td>\n",
              "      <td>S</td>\n",
              "    </tr>\n",
              "    <tr>\n",
              "      <th>4</th>\n",
              "      <td>5</td>\n",
              "      <td>0</td>\n",
              "      <td>3</td>\n",
              "      <td>Allen, Mr. William Henry</td>\n",
              "      <td>male</td>\n",
              "      <td>35.0</td>\n",
              "      <td>0</td>\n",
              "      <td>0</td>\n",
              "      <td>373450</td>\n",
              "      <td>8.0500</td>\n",
              "      <td>NaN</td>\n",
              "      <td>S</td>\n",
              "    </tr>\n",
              "    <tr>\n",
              "      <th>5</th>\n",
              "      <td>6</td>\n",
              "      <td>0</td>\n",
              "      <td>3</td>\n",
              "      <td>Moran, Mr. James</td>\n",
              "      <td>male</td>\n",
              "      <td>NaN</td>\n",
              "      <td>0</td>\n",
              "      <td>0</td>\n",
              "      <td>330877</td>\n",
              "      <td>8.4583</td>\n",
              "      <td>NaN</td>\n",
              "      <td>Q</td>\n",
              "    </tr>\n",
              "    <tr>\n",
              "      <th>6</th>\n",
              "      <td>7</td>\n",
              "      <td>0</td>\n",
              "      <td>1</td>\n",
              "      <td>McCarthy, Mr. Timothy J</td>\n",
              "      <td>male</td>\n",
              "      <td>54.0</td>\n",
              "      <td>0</td>\n",
              "      <td>0</td>\n",
              "      <td>17463</td>\n",
              "      <td>51.8625</td>\n",
              "      <td>E46</td>\n",
              "      <td>S</td>\n",
              "    </tr>\n",
              "    <tr>\n",
              "      <th>7</th>\n",
              "      <td>8</td>\n",
              "      <td>0</td>\n",
              "      <td>3</td>\n",
              "      <td>Palsson, Master. Gosta Leonard</td>\n",
              "      <td>male</td>\n",
              "      <td>2.0</td>\n",
              "      <td>3</td>\n",
              "      <td>1</td>\n",
              "      <td>349909</td>\n",
              "      <td>21.0750</td>\n",
              "      <td>NaN</td>\n",
              "      <td>S</td>\n",
              "    </tr>\n",
              "    <tr>\n",
              "      <th>8</th>\n",
              "      <td>9</td>\n",
              "      <td>1</td>\n",
              "      <td>3</td>\n",
              "      <td>Johnson, Mrs. Oscar W (Elisabeth Vilhelmina Berg)</td>\n",
              "      <td>female</td>\n",
              "      <td>27.0</td>\n",
              "      <td>0</td>\n",
              "      <td>2</td>\n",
              "      <td>347742</td>\n",
              "      <td>11.1333</td>\n",
              "      <td>NaN</td>\n",
              "      <td>S</td>\n",
              "    </tr>\n",
              "    <tr>\n",
              "      <th>9</th>\n",
              "      <td>10</td>\n",
              "      <td>1</td>\n",
              "      <td>2</td>\n",
              "      <td>Nasser, Mrs. Nicholas (Adele Achem)</td>\n",
              "      <td>female</td>\n",
              "      <td>14.0</td>\n",
              "      <td>1</td>\n",
              "      <td>0</td>\n",
              "      <td>237736</td>\n",
              "      <td>30.0708</td>\n",
              "      <td>NaN</td>\n",
              "      <td>C</td>\n",
              "    </tr>\n",
              "  </tbody>\n",
              "</table>\n",
              "</div>"
            ],
            "text/plain": [
              "   PassengerId  Survived  Pclass  ...     Fare Cabin  Embarked\n",
              "0            1         0       3  ...   7.2500   NaN         S\n",
              "1            2         1       1  ...  71.2833   C85         C\n",
              "2            3         1       3  ...   7.9250   NaN         S\n",
              "3            4         1       1  ...  53.1000  C123         S\n",
              "4            5         0       3  ...   8.0500   NaN         S\n",
              "5            6         0       3  ...   8.4583   NaN         Q\n",
              "6            7         0       1  ...  51.8625   E46         S\n",
              "7            8         0       3  ...  21.0750   NaN         S\n",
              "8            9         1       3  ...  11.1333   NaN         S\n",
              "9           10         1       2  ...  30.0708   NaN         C\n",
              "\n",
              "[10 rows x 12 columns]"
            ]
          },
          "metadata": {},
          "execution_count": 12
        }
      ]
    },
    {
      "cell_type": "markdown",
      "metadata": {
        "id": "Q5TiUUTNYOuS"
      },
      "source": [
        "# Examine a general summary of statistics"
      ]
    },
    {
      "cell_type": "code",
      "metadata": {
        "id": "Ip0qJM9_YV90",
        "colab": {
          "base_uri": "https://localhost:8080/"
        },
        "outputId": "f84d50f5-936b-4dcf-e0eb-d22e11ea2230"
      },
      "source": [
        "with pd.option_context('float_format', '{:.2f}'.format): \n",
        "    print(data_raw.describe())"
      ],
      "execution_count": 13,
      "outputs": [
        {
          "output_type": "stream",
          "name": "stdout",
          "text": [
            "       PassengerId  Survived  Pclass    Age  SibSp  Parch   Fare\n",
            "count       891.00    891.00  891.00 714.00 891.00 891.00 891.00\n",
            "mean        446.00      0.38    2.31  29.70   0.52   0.38  32.20\n",
            "std         257.35      0.49    0.84  14.53   1.10   0.81  49.69\n",
            "min           1.00      0.00    1.00   0.42   0.00   0.00   0.00\n",
            "25%         223.50      0.00    2.00  20.12   0.00   0.00   7.91\n",
            "50%         446.00      0.00    3.00  28.00   0.00   0.00  14.45\n",
            "75%         668.50      1.00    3.00  38.00   1.00   0.00  31.00\n",
            "max         891.00      1.00    3.00  80.00   8.00   6.00 512.33\n"
          ]
        }
      ]
    },
    {
      "cell_type": "code",
      "metadata": {
        "id": "pWK0OPhAYOZj",
        "colab": {
          "base_uri": "https://localhost:8080/"
        },
        "outputId": "a4ec2c5d-3573-4ae2-9e98-50fd1a1cde2c"
      },
      "source": [
        "with pd.option_context('float_format', '{:.2f}'.format): \n",
        "    print(data_raw.describe(percentiles=[0.1,0.2,0.3,0.4,0.5,0.6,0.7,0.8,0.9]))"
      ],
      "execution_count": 14,
      "outputs": [
        {
          "output_type": "stream",
          "name": "stdout",
          "text": [
            "       PassengerId  Survived  Pclass    Age  SibSp  Parch   Fare\n",
            "count       891.00    891.00  891.00 714.00 891.00 891.00 891.00\n",
            "mean        446.00      0.38    2.31  29.70   0.52   0.38  32.20\n",
            "std         257.35      0.49    0.84  14.53   1.10   0.81  49.69\n",
            "min           1.00      0.00    1.00   0.42   0.00   0.00   0.00\n",
            "10%          90.00      0.00    1.00  14.00   0.00   0.00   7.55\n",
            "20%         179.00      0.00    1.00  19.00   0.00   0.00   7.85\n",
            "30%         268.00      0.00    2.00  22.00   0.00   0.00   8.05\n",
            "40%         357.00      0.00    2.00  25.00   0.00   0.00  10.50\n",
            "50%         446.00      0.00    3.00  28.00   0.00   0.00  14.45\n",
            "60%         535.00      0.00    3.00  31.80   0.00   0.00  21.68\n",
            "70%         624.00      1.00    3.00  36.00   1.00   0.00  27.00\n",
            "80%         713.00      1.00    3.00  41.00   1.00   1.00  39.69\n",
            "90%         802.00      1.00    3.00  50.00   1.00   2.00  77.96\n",
            "max         891.00      1.00    3.00  80.00   8.00   6.00 512.33\n"
          ]
        }
      ]
    },
    {
      "cell_type": "markdown",
      "metadata": {
        "id": "KWQ_nxRSYcGL"
      },
      "source": [
        "# Use stacked bar visualization to show survival numbers"
      ]
    },
    {
      "cell_type": "code",
      "metadata": {
        "id": "VCUv4BgDYcr6",
        "colab": {
          "base_uri": "https://localhost:8080/",
          "height": 1000
        },
        "outputId": "9ecf73e2-74fc-4c74-db98-6edfe02ac277"
      },
      "source": [
        "feature_list = ['Pclass', 'Sex', 'SibSp', 'Parch', 'Embarked']\n",
        "\n",
        "for feature in feature_list:\n",
        "    plot_set = data_raw.groupby([feature, 'Survived'])\n",
        "    plot_set = plot_set.size().reset_index()\n",
        "    plot_set = plot_set.pivot(columns=feature,index='Survived',values=0)\n",
        "    plot_set.plot(kind='bar', stacked=True, rot=0, figsize=(20,3)).set_title(f'Survival Rates by {feature}');"
      ],
      "execution_count": 15,
      "outputs": [
        {
          "output_type": "display_data",
          "data": {
            "image/png": "[encoded data removed]",
            "text/plain": [
              "<Figure size 1440x216 with 1 Axes>"
            ]
          },
          "metadata": {
            "needs_background": "light"
          }
        },
        {
          "output_type": "display_data",
          "data": {
            "image/png": "[encoded data removed]",
            "text/plain": [
              "<Figure size 1440x216 with 1 Axes>"
            ]
          },
          "metadata": {
            "needs_background": "light"
          }
        },
        {
          "output_type": "display_data",
          "data": {
            "image/png": "[encoded data removed]",
            "text/plain": [
              "<Figure size 1440x216 with 1 Axes>"
            ]
          },
          "metadata": {
            "needs_background": "light"
          }
        },
        {
          "output_type": "display_data",
          "data": {
            "image/png": "[encoded data removed]",
            "text/plain": [
              "<Figure size 1440x216 with 1 Axes>"
            ]
          },
          "metadata": {
            "needs_background": "light"
          }
        },
        {
          "output_type": "display_data",
          "data": {
            "image/png": "[encoded data removed]",
            "text/plain": [
              "<Figure size 1440x216 with 1 Axes>"
            ]
          },
          "metadata": {
            "needs_background": "light"
          }
        }
      ]
    },
    {
      "cell_type": "markdown",
      "metadata": {
        "id": "YowqIrpVYs5S"
      },
      "source": [
        "# Assignments\n",
        "\n",
        "1.   Create a new row of men and women\n",
        "2.   Plot 2 graphs of Men Vs Survival and Women Vs Survival\n",
        "3. Identify missing values\n",
        "4. Replace missing values with the median value\n",
        "5. A dataset can contain a range of values that depict a certain characteristic, such as grades on tests in a class during the semester. A specific student has so far received the following grades: 76, 81, 78,87, 75, and 72. There is one final test in the semester. What minimum grade would the student need to achieve on the last test to get an 80% average?\n",
        "\n"
      ]
    },
    {
      "cell_type": "code",
      "metadata": {
        "colab": {
          "base_uri": "https://localhost:8080/",
          "height": 422
        },
        "id": "RIhFWDQrH3dO",
        "outputId": "fda0ffdc-a22b-4355-a14a-e901b2579726"
      },
      "source": [
        "men = data_raw[data_raw['Sex']=='male'].round(0)\n",
        "men"
      ],
      "execution_count": 17,
      "outputs": [
        {
          "output_type": "execute_result",
          "data": {
            "text/html": [
              "<div>\n",
              "<style scoped>\n",
              "    .dataframe tbody tr th:only-of-type {\n",
              "        vertical-align: middle;\n",
              "    }\n",
              "\n",
              "    .dataframe tbody tr th {\n",
              "        vertical-align: top;\n",
              "    }\n",
              "\n",
              "    .dataframe thead th {\n",
              "        text-align: right;\n",
              "    }\n",
              "</style>\n",
              "<table border=\"1\" class=\"dataframe\">\n",
              "  <thead>\n",
              "    <tr style=\"text-align: right;\">\n",
              "      <th></th>\n",
              "      <th>PassengerId</th>\n",
              "      <th>Survived</th>\n",
              "      <th>Pclass</th>\n",
              "      <th>Name</th>\n",
              "      <th>Sex</th>\n",
              "      <th>Age</th>\n",
              "      <th>SibSp</th>\n",
              "      <th>Parch</th>\n",
              "      <th>Ticket</th>\n",
              "      <th>Fare</th>\n",
              "      <th>Cabin</th>\n",
              "      <th>Embarked</th>\n",
              "    </tr>\n",
              "  </thead>\n",
              "  <tbody>\n",
              "    <tr>\n",
              "      <th>0</th>\n",
              "      <td>1</td>\n",
              "      <td>0</td>\n",
              "      <td>3</td>\n",
              "      <td>Braund, Mr. Owen Harris</td>\n",
              "      <td>male</td>\n",
              "      <td>22.0</td>\n",
              "      <td>1</td>\n",
              "      <td>0</td>\n",
              "      <td>A/5 21171</td>\n",
              "      <td>7.0</td>\n",
              "      <td>NaN</td>\n",
              "      <td>S</td>\n",
              "    </tr>\n",
              "    <tr>\n",
              "      <th>4</th>\n",
              "      <td>5</td>\n",
              "      <td>0</td>\n",
              "      <td>3</td>\n",
              "      <td>Allen, Mr. William Henry</td>\n",
              "      <td>male</td>\n",
              "      <td>35.0</td>\n",
              "      <td>0</td>\n",
              "      <td>0</td>\n",
              "      <td>373450</td>\n",
              "      <td>8.0</td>\n",
              "      <td>NaN</td>\n",
              "      <td>S</td>\n",
              "    </tr>\n",
              "    <tr>\n",
              "      <th>5</th>\n",
              "      <td>6</td>\n",
              "      <td>0</td>\n",
              "      <td>3</td>\n",
              "      <td>Moran, Mr. James</td>\n",
              "      <td>male</td>\n",
              "      <td>NaN</td>\n",
              "      <td>0</td>\n",
              "      <td>0</td>\n",
              "      <td>330877</td>\n",
              "      <td>8.0</td>\n",
              "      <td>NaN</td>\n",
              "      <td>Q</td>\n",
              "    </tr>\n",
              "    <tr>\n",
              "      <th>6</th>\n",
              "      <td>7</td>\n",
              "      <td>0</td>\n",
              "      <td>1</td>\n",
              "      <td>McCarthy, Mr. Timothy J</td>\n",
              "      <td>male</td>\n",
              "      <td>54.0</td>\n",
              "      <td>0</td>\n",
              "      <td>0</td>\n",
              "      <td>17463</td>\n",
              "      <td>52.0</td>\n",
              "      <td>E46</td>\n",
              "      <td>S</td>\n",
              "    </tr>\n",
              "    <tr>\n",
              "      <th>7</th>\n",
              "      <td>8</td>\n",
              "      <td>0</td>\n",
              "      <td>3</td>\n",
              "      <td>Palsson, Master. Gosta Leonard</td>\n",
              "      <td>male</td>\n",
              "      <td>2.0</td>\n",
              "      <td>3</td>\n",
              "      <td>1</td>\n",
              "      <td>349909</td>\n",
              "      <td>21.0</td>\n",
              "      <td>NaN</td>\n",
              "      <td>S</td>\n",
              "    </tr>\n",
              "    <tr>\n",
              "      <th>...</th>\n",
              "      <td>...</td>\n",
              "      <td>...</td>\n",
              "      <td>...</td>\n",
              "      <td>...</td>\n",
              "      <td>...</td>\n",
              "      <td>...</td>\n",
              "      <td>...</td>\n",
              "      <td>...</td>\n",
              "      <td>...</td>\n",
              "      <td>...</td>\n",
              "      <td>...</td>\n",
              "      <td>...</td>\n",
              "    </tr>\n",
              "    <tr>\n",
              "      <th>883</th>\n",
              "      <td>884</td>\n",
              "      <td>0</td>\n",
              "      <td>2</td>\n",
              "      <td>Banfield, Mr. Frederick James</td>\n",
              "      <td>male</td>\n",
              "      <td>28.0</td>\n",
              "      <td>0</td>\n",
              "      <td>0</td>\n",
              "      <td>C.A./SOTON 34068</td>\n",
              "      <td>10.0</td>\n",
              "      <td>NaN</td>\n",
              "      <td>S</td>\n",
              "    </tr>\n",
              "    <tr>\n",
              "      <th>884</th>\n",
              "      <td>885</td>\n",
              "      <td>0</td>\n",
              "      <td>3</td>\n",
              "      <td>Sutehall, Mr. Henry Jr</td>\n",
              "      <td>male</td>\n",
              "      <td>25.0</td>\n",
              "      <td>0</td>\n",
              "      <td>0</td>\n",
              "      <td>SOTON/OQ 392076</td>\n",
              "      <td>7.0</td>\n",
              "      <td>NaN</td>\n",
              "      <td>S</td>\n",
              "    </tr>\n",
              "    <tr>\n",
              "      <th>886</th>\n",
              "      <td>887</td>\n",
              "      <td>0</td>\n",
              "      <td>2</td>\n",
              "      <td>Montvila, Rev. Juozas</td>\n",
              "      <td>male</td>\n",
              "      <td>27.0</td>\n",
              "      <td>0</td>\n",
              "      <td>0</td>\n",
              "      <td>211536</td>\n",
              "      <td>13.0</td>\n",
              "      <td>NaN</td>\n",
              "      <td>S</td>\n",
              "    </tr>\n",
              "    <tr>\n",
              "      <th>889</th>\n",
              "      <td>890</td>\n",
              "      <td>1</td>\n",
              "      <td>1</td>\n",
              "      <td>Behr, Mr. Karl Howell</td>\n",
              "      <td>male</td>\n",
              "      <td>26.0</td>\n",
              "      <td>0</td>\n",
              "      <td>0</td>\n",
              "      <td>111369</td>\n",
              "      <td>30.0</td>\n",
              "      <td>C148</td>\n",
              "      <td>C</td>\n",
              "    </tr>\n",
              "    <tr>\n",
              "      <th>890</th>\n",
              "      <td>891</td>\n",
              "      <td>0</td>\n",
              "      <td>3</td>\n",
              "      <td>Dooley, Mr. Patrick</td>\n",
              "      <td>male</td>\n",
              "      <td>32.0</td>\n",
              "      <td>0</td>\n",
              "      <td>0</td>\n",
              "      <td>370376</td>\n",
              "      <td>8.0</td>\n",
              "      <td>NaN</td>\n",
              "      <td>Q</td>\n",
              "    </tr>\n",
              "  </tbody>\n",
              "</table>\n",
              "<p>577 rows × 12 columns</p>\n",
              "</div>"
            ],
            "text/plain": [
              "     PassengerId  Survived  Pclass  ...  Fare Cabin  Embarked\n",
              "0              1         0       3  ...   7.0   NaN         S\n",
              "4              5         0       3  ...   8.0   NaN         S\n",
              "5              6         0       3  ...   8.0   NaN         Q\n",
              "6              7         0       1  ...  52.0   E46         S\n",
              "7              8         0       3  ...  21.0   NaN         S\n",
              "..           ...       ...     ...  ...   ...   ...       ...\n",
              "883          884         0       2  ...  10.0   NaN         S\n",
              "884          885         0       3  ...   7.0   NaN         S\n",
              "886          887         0       2  ...  13.0   NaN         S\n",
              "889          890         1       1  ...  30.0  C148         C\n",
              "890          891         0       3  ...   8.0   NaN         Q\n",
              "\n",
              "[577 rows x 12 columns]"
            ]
          },
          "metadata": {},
          "execution_count": 17
        }
      ]
    },
    {
      "cell_type": "code",
      "metadata": {
        "colab": {
          "base_uri": "https://localhost:8080/",
          "height": 422
        },
        "id": "DltBHf6kIb1F",
        "outputId": "586166b0-5bb4-4fb5-b0e6-8d8e33544257"
      },
      "source": [
        "women = data_raw[data_raw['Sex']=='female'].round(0)\n",
        "women"
      ],
      "execution_count": 18,
      "outputs": [
        {
          "output_type": "execute_result",
          "data": {
            "text/html": [
              "<div>\n",
              "<style scoped>\n",
              "    .dataframe tbody tr th:only-of-type {\n",
              "        vertical-align: middle;\n",
              "    }\n",
              "\n",
              "    .dataframe tbody tr th {\n",
              "        vertical-align: top;\n",
              "    }\n",
              "\n",
              "    .dataframe thead th {\n",
              "        text-align: right;\n",
              "    }\n",
              "</style>\n",
              "<table border=\"1\" class=\"dataframe\">\n",
              "  <thead>\n",
              "    <tr style=\"text-align: right;\">\n",
              "      <th></th>\n",
              "      <th>PassengerId</th>\n",
              "      <th>Survived</th>\n",
              "      <th>Pclass</th>\n",
              "      <th>Name</th>\n",
              "      <th>Sex</th>\n",
              "      <th>Age</th>\n",
              "      <th>SibSp</th>\n",
              "      <th>Parch</th>\n",
              "      <th>Ticket</th>\n",
              "      <th>Fare</th>\n",
              "      <th>Cabin</th>\n",
              "      <th>Embarked</th>\n",
              "    </tr>\n",
              "  </thead>\n",
              "  <tbody>\n",
              "    <tr>\n",
              "      <th>1</th>\n",
              "      <td>2</td>\n",
              "      <td>1</td>\n",
              "      <td>1</td>\n",
              "      <td>Cumings, Mrs. John Bradley (Florence Briggs Th...</td>\n",
              "      <td>female</td>\n",
              "      <td>38.0</td>\n",
              "      <td>1</td>\n",
              "      <td>0</td>\n",
              "      <td>PC 17599</td>\n",
              "      <td>71.0</td>\n",
              "      <td>C85</td>\n",
              "      <td>C</td>\n",
              "    </tr>\n",
              "    <tr>\n",
              "      <th>2</th>\n",
              "      <td>3</td>\n",
              "      <td>1</td>\n",
              "      <td>3</td>\n",
              "      <td>Heikkinen, Miss. Laina</td>\n",
              "      <td>female</td>\n",
              "      <td>26.0</td>\n",
              "      <td>0</td>\n",
              "      <td>0</td>\n",
              "      <td>STON/O2. 3101282</td>\n",
              "      <td>8.0</td>\n",
              "      <td>NaN</td>\n",
              "      <td>S</td>\n",
              "    </tr>\n",
              "    <tr>\n",
              "      <th>3</th>\n",
              "      <td>4</td>\n",
              "      <td>1</td>\n",
              "      <td>1</td>\n",
              "      <td>Futrelle, Mrs. Jacques Heath (Lily May Peel)</td>\n",
              "      <td>female</td>\n",
              "      <td>35.0</td>\n",
              "      <td>1</td>\n",
              "      <td>0</td>\n",
              "      <td>113803</td>\n",
              "      <td>53.0</td>\n",
              "      <td>C123</td>\n",
              "      <td>S</td>\n",
              "    </tr>\n",
              "    <tr>\n",
              "      <th>8</th>\n",
              "      <td>9</td>\n",
              "      <td>1</td>\n",
              "      <td>3</td>\n",
              "      <td>Johnson, Mrs. Oscar W (Elisabeth Vilhelmina Berg)</td>\n",
              "      <td>female</td>\n",
              "      <td>27.0</td>\n",
              "      <td>0</td>\n",
              "      <td>2</td>\n",
              "      <td>347742</td>\n",
              "      <td>11.0</td>\n",
              "      <td>NaN</td>\n",
              "      <td>S</td>\n",
              "    </tr>\n",
              "    <tr>\n",
              "      <th>9</th>\n",
              "      <td>10</td>\n",
              "      <td>1</td>\n",
              "      <td>2</td>\n",
              "      <td>Nasser, Mrs. Nicholas (Adele Achem)</td>\n",
              "      <td>female</td>\n",
              "      <td>14.0</td>\n",
              "      <td>1</td>\n",
              "      <td>0</td>\n",
              "      <td>237736</td>\n",
              "      <td>30.0</td>\n",
              "      <td>NaN</td>\n",
              "      <td>C</td>\n",
              "    </tr>\n",
              "    <tr>\n",
              "      <th>...</th>\n",
              "      <td>...</td>\n",
              "      <td>...</td>\n",
              "      <td>...</td>\n",
              "      <td>...</td>\n",
              "      <td>...</td>\n",
              "      <td>...</td>\n",
              "      <td>...</td>\n",
              "      <td>...</td>\n",
              "      <td>...</td>\n",
              "      <td>...</td>\n",
              "      <td>...</td>\n",
              "      <td>...</td>\n",
              "    </tr>\n",
              "    <tr>\n",
              "      <th>880</th>\n",
              "      <td>881</td>\n",
              "      <td>1</td>\n",
              "      <td>2</td>\n",
              "      <td>Shelley, Mrs. William (Imanita Parrish Hall)</td>\n",
              "      <td>female</td>\n",
              "      <td>25.0</td>\n",
              "      <td>0</td>\n",
              "      <td>1</td>\n",
              "      <td>230433</td>\n",
              "      <td>26.0</td>\n",
              "      <td>NaN</td>\n",
              "      <td>S</td>\n",
              "    </tr>\n",
              "    <tr>\n",
              "      <th>882</th>\n",
              "      <td>883</td>\n",
              "      <td>0</td>\n",
              "      <td>3</td>\n",
              "      <td>Dahlberg, Miss. Gerda Ulrika</td>\n",
              "      <td>female</td>\n",
              "      <td>22.0</td>\n",
              "      <td>0</td>\n",
              "      <td>0</td>\n",
              "      <td>7552</td>\n",
              "      <td>11.0</td>\n",
              "      <td>NaN</td>\n",
              "      <td>S</td>\n",
              "    </tr>\n",
              "    <tr>\n",
              "      <th>885</th>\n",
              "      <td>886</td>\n",
              "      <td>0</td>\n",
              "      <td>3</td>\n",
              "      <td>Rice, Mrs. William (Margaret Norton)</td>\n",
              "      <td>female</td>\n",
              "      <td>39.0</td>\n",
              "      <td>0</td>\n",
              "      <td>5</td>\n",
              "      <td>382652</td>\n",
              "      <td>29.0</td>\n",
              "      <td>NaN</td>\n",
              "      <td>Q</td>\n",
              "    </tr>\n",
              "    <tr>\n",
              "      <th>887</th>\n",
              "      <td>888</td>\n",
              "      <td>1</td>\n",
              "      <td>1</td>\n",
              "      <td>Graham, Miss. Margaret Edith</td>\n",
              "      <td>female</td>\n",
              "      <td>19.0</td>\n",
              "      <td>0</td>\n",
              "      <td>0</td>\n",
              "      <td>112053</td>\n",
              "      <td>30.0</td>\n",
              "      <td>B42</td>\n",
              "      <td>S</td>\n",
              "    </tr>\n",
              "    <tr>\n",
              "      <th>888</th>\n",
              "      <td>889</td>\n",
              "      <td>0</td>\n",
              "      <td>3</td>\n",
              "      <td>Johnston, Miss. Catherine Helen \"Carrie\"</td>\n",
              "      <td>female</td>\n",
              "      <td>NaN</td>\n",
              "      <td>1</td>\n",
              "      <td>2</td>\n",
              "      <td>W./C. 6607</td>\n",
              "      <td>23.0</td>\n",
              "      <td>NaN</td>\n",
              "      <td>S</td>\n",
              "    </tr>\n",
              "  </tbody>\n",
              "</table>\n",
              "<p>314 rows × 12 columns</p>\n",
              "</div>"
            ],
            "text/plain": [
              "     PassengerId  Survived  Pclass  ...  Fare Cabin  Embarked\n",
              "1              2         1       1  ...  71.0   C85         C\n",
              "2              3         1       3  ...   8.0   NaN         S\n",
              "3              4         1       1  ...  53.0  C123         S\n",
              "8              9         1       3  ...  11.0   NaN         S\n",
              "9             10         1       2  ...  30.0   NaN         C\n",
              "..           ...       ...     ...  ...   ...   ...       ...\n",
              "880          881         1       2  ...  26.0   NaN         S\n",
              "882          883         0       3  ...  11.0   NaN         S\n",
              "885          886         0       3  ...  29.0   NaN         Q\n",
              "887          888         1       1  ...  30.0   B42         S\n",
              "888          889         0       3  ...  23.0   NaN         S\n",
              "\n",
              "[314 rows x 12 columns]"
            ]
          },
          "metadata": {},
          "execution_count": 18
        }
      ]
    },
    {
      "cell_type": "code",
      "metadata": {
        "colab": {
          "base_uri": "https://localhost:8080/",
          "height": 316
        },
        "id": "3DAyayMQIjl8",
        "outputId": "ae8d0aad-3f35-45a8-adb6-331324f56cb2"
      },
      "source": [
        "women_plot = women.groupby(['Survived','Age']).size().reset_index().pivot(columns=\"Survived\",index=\"Age\",values=0)\n",
        "ax = women_plot.plot(kind=\"bar\",stacked=True,figsize=(20,4),title=\"Female Survival By Age\")\n",
        "ax.set_xlim(0,80)\n",
        "ax.set_ylim(0,20)"
      ],
      "execution_count": 20,
      "outputs": [
        {
          "output_type": "execute_result",
          "data": {
            "text/plain": [
              "(0.0, 20.0)"
            ]
          },
          "metadata": {},
          "execution_count": 20
        },
        {
          "output_type": "display_data",
          "data": {
            "image/png": "[encoded data removed]",
            "text/plain": [
              "<Figure size 1440x288 with 1 Axes>"
            ]
          },
          "metadata": {
            "needs_background": "light"
          }
        }
      ]
    },
    {
      "cell_type": "code",
      "metadata": {
        "colab": {
          "base_uri": "https://localhost:8080/",
          "height": 316
        },
        "id": "rNSQX6yhJ3Wd",
        "outputId": "521d7bf2-d5b7-4523-b7b2-2231ff387c37"
      },
      "source": [
        "men_plot = men.groupby(['Survived','Age']).size().reset_index().pivot(columns=\"Survived\",index=\"Age\",values=0)\n",
        "ax = men_plot.plot(kind=\"bar\",stacked=True,figsize=(20,4),title=\"Male Survival By Age\")\n",
        "ax.set_xlim(0,80)\n",
        "ax.set_ylim(0,20)"
      ],
      "execution_count": 21,
      "outputs": [
        {
          "output_type": "execute_result",
          "data": {
            "text/plain": [
              "(0.0, 20.0)"
            ]
          },
          "metadata": {},
          "execution_count": 21
        },
        {
          "output_type": "display_data",
          "data": {
            "image/png": "[encoded data removed]",
            "text/plain": [
              "<Figure size 1440x288 with 1 Axes>"
            ]
          },
          "metadata": {
            "needs_background": "light"
          }
        }
      ]
    },
    {
      "cell_type": "code",
      "metadata": {
        "colab": {
          "base_uri": "https://localhost:8080/"
        },
        "id": "KAB0ZdfcKbKL",
        "outputId": "4b7b4e27-7d8a-4dda-8d60-d24b7ca08c80"
      },
      "source": [
        "print('Number of missing values: \\n{}\\n'.format(data_raw.isnull().sum()))"
      ],
      "execution_count": 31,
      "outputs": [
        {
          "output_type": "stream",
          "name": "stdout",
          "text": [
            "Number of missing values: \n",
            "PassengerId      0\n",
            "Survived         0\n",
            "Pclass           0\n",
            "Name             0\n",
            "Sex              0\n",
            "Age              0\n",
            "SibSp            0\n",
            "Parch            0\n",
            "Ticket           0\n",
            "Fare             0\n",
            "Cabin          687\n",
            "Embarked         0\n",
            "dtype: int64\n",
            "\n"
          ]
        }
      ]
    },
    {
      "cell_type": "code",
      "metadata": {
        "id": "mHaBAZBxLM8B"
      },
      "source": [
        "data_raw['Age'].fillna(data_raw['Age'].median(), inplace=True)"
      ],
      "execution_count": 23,
      "outputs": []
    },
    {
      "cell_type": "code",
      "metadata": {
        "id": "VICqewdIL8Os"
      },
      "source": [
        "data_raw['Embarked'].fillna(data_raw['Embarked'].mode()[0], inplace=True)"
      ],
      "execution_count": 30,
      "outputs": []
    }
  ]
}